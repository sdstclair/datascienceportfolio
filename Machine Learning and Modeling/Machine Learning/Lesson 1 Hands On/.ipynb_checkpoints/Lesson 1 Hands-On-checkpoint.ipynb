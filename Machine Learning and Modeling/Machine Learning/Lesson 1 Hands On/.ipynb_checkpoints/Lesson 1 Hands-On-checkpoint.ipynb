{
 "cells": [
  {
   "cell_type": "code",
   "execution_count": 41,
   "id": "558d30b6-9443-45ca-b641-65a4a0d0dd1d",
   "metadata": {},
   "outputs": [],
   "source": [
    "from sklearn.model_selection import KFold\n",
    "from sklearn.model_selection import cross_val_score\n",
    "import pandas as pd\n",
    "import numpy as np\n",
    "from sklearn import metrics\n",
    "%matplotlib inline\n",
    "import matplotlib.pyplot as plt\n",
    "from sklearn.model_selection import train_test_split\n",
    "from sklearn.linear_model import LinearRegression\n",
    "import seaborn as sns\n",
    "from sklearn.utils import shuffle"
   ]
  },
  {
   "cell_type": "code",
   "execution_count": 2,
   "id": "e273b489-eccf-49d0-ae41-c4acb56220d2",
   "metadata": {},
   "outputs": [],
   "source": [
    "Diamonds = shuffle(sns.load_dataset('diamonds'))"
   ]
  },
  {
   "cell_type": "code",
   "execution_count": 3,
   "id": "ea6c6a50-e57d-435c-aec7-7d886e70c005",
   "metadata": {},
   "outputs": [],
   "source": [
    "# Use the following variables to predict the price of diamonds:\n",
    "##carat\n",
    "##cut\n",
    "##color\n",
    "##clarity"
   ]
  },
  {
   "cell_type": "code",
   "execution_count": 6,
   "id": "ea026f53-2abc-46ef-b429-d4c9f6d68172",
   "metadata": {},
   "outputs": [],
   "source": [
    "#You will need to use the train_test_split() method and Linear Regression to train and test your algorithm."
   ]
  },
  {
   "cell_type": "code",
   "execution_count": 7,
   "id": "49368d53-fb2e-48c8-ba44-10154e759684",
   "metadata": {},
   "outputs": [],
   "source": [
    "#Final product should be slide presentation that explains the process taken to analyze the data and conclusions found"
   ]
  },
  {
   "cell_type": "code",
   "execution_count": 8,
   "id": "07f55c07-f7bf-4320-b3a8-bf89c33afb48",
   "metadata": {},
   "outputs": [
    {
     "name": "stdout",
     "output_type": "stream",
     "text": [
      "       carat        cut color clarity  depth  table  price     x     y     z\n",
      "3900    0.72      Ideal     F     VS1   61.8   56.0   3489  5.72  5.77  3.55\n",
      "38482   0.42      Ideal     F     VS1   61.3   57.0   1031  4.80  4.85  2.96\n",
      "34251   0.46       Fair     I     VS2   66.8   55.0    855  4.82  4.77  3.20\n",
      "46129   0.51    Premium     F     VS1   61.4   58.0   1744  5.15  5.18  3.17\n",
      "7386    0.33  Very Good     H     VS1   59.7   59.0    579  4.52  4.53  2.70\n",
      "...      ...        ...   ...     ...    ...    ...    ...   ...   ...   ...\n",
      "5444    0.70      Ideal     F    VVS1   62.4   55.0   3830  5.63  5.71  3.54\n",
      "19523   1.02      Ideal     F     VS1   61.0   56.0   8157  6.52  6.49  3.97\n",
      "49934   0.71  Very Good     I     VS2   62.8   59.0   2185  5.64  5.67  3.55\n",
      "44232   0.59      Ideal     D     SI2   62.3   55.0   1572  5.41  5.38  3.36\n",
      "41915   0.58  Very Good     H     SI1   62.4   55.0   1262  5.32  5.36  3.33\n",
      "\n",
      "[53940 rows x 10 columns]\n"
     ]
    }
   ],
   "source": [
    "print(Diamonds)"
   ]
  },
  {
   "cell_type": "code",
   "execution_count": 51,
   "id": "08ca5160-cbb7-418d-b58e-b12434d2ccb0",
   "metadata": {},
   "outputs": [],
   "source": [
    "def cut_recode (series): \n",
    "    if series == \"Ideal\":\n",
    "        return 0\n",
    "    if series == \"Premium\": \n",
    "        return 1\n",
    "    if series == \"Very Good\": \n",
    "        return 2\n",
    "    if series == \"Good\": \n",
    "        return 3\n",
    "    if series == \"Fair\": \n",
    "        return 4\n",
    "Diamonds['cutR'] = Diamonds['cut'].apply(cut_recode)"
   ]
  },
  {
   "cell_type": "code",
   "execution_count": 55,
   "id": "1300a005-31b2-435e-b7f4-96517c747d66",
   "metadata": {},
   "outputs": [
    {
     "data": {
      "text/plain": [
       "SI1     13065\n",
       "VS2     12258\n",
       "SI2      9194\n",
       "VS1      8171\n",
       "VVS2     5066\n",
       "VVS1     3655\n",
       "IF       1790\n",
       "I1        741\n",
       "Name: clarity, dtype: int64"
      ]
     },
     "execution_count": 55,
     "metadata": {},
     "output_type": "execute_result"
    }
   ],
   "source": [
    "Diamonds.clarity.value_counts()"
   ]
  },
  {
   "cell_type": "code",
   "execution_count": 90,
   "id": "cb54d00a-9a0a-4a2c-82c3-5c14c706114c",
   "metadata": {},
   "outputs": [
    {
     "data": {
      "text/plain": [
       "<bound method NDFrame.head of        carat        cut color clarity  depth  table  price     x     y     z  \\\n",
       "3900    0.72      Ideal     F     VS1   61.8   56.0   3489  5.72  5.77  3.55   \n",
       "38482   0.42      Ideal     F     VS1   61.3   57.0   1031  4.80  4.85  2.96   \n",
       "34251   0.46       Fair     I     VS2   66.8   55.0    855  4.82  4.77  3.20   \n",
       "46129   0.51    Premium     F     VS1   61.4   58.0   1744  5.15  5.18  3.17   \n",
       "7386    0.33  Very Good     H     VS1   59.7   59.0    579  4.52  4.53  2.70   \n",
       "...      ...        ...   ...     ...    ...    ...    ...   ...   ...   ...   \n",
       "5444    0.70      Ideal     F    VVS1   62.4   55.0   3830  5.63  5.71  3.54   \n",
       "19523   1.02      Ideal     F     VS1   61.0   56.0   8157  6.52  6.49  3.97   \n",
       "49934   0.71  Very Good     I     VS2   62.8   59.0   2185  5.64  5.67  3.55   \n",
       "44232   0.59      Ideal     D     SI2   62.3   55.0   1572  5.41  5.38  3.36   \n",
       "41915   0.58  Very Good     H     SI1   62.4   55.0   1262  5.32  5.36  3.33   \n",
       "\n",
       "      cutR colorR clarityR  \n",
       "3900     0      2        3  \n",
       "38482    0      2        3  \n",
       "34251    4      5        1  \n",
       "46129    1      2        3  \n",
       "7386     2      3        3  \n",
       "...    ...    ...      ...  \n",
       "5444     0      2        5  \n",
       "19523    0      2        3  \n",
       "49934    2      5        1  \n",
       "44232    0      4        2  \n",
       "41915    2      3        0  \n",
       "\n",
       "[53940 rows x 13 columns]>"
      ]
     },
     "execution_count": 90,
     "metadata": {},
     "output_type": "execute_result"
    }
   ],
   "source": [
    "Diamonds.head"
   ]
  },
  {
   "cell_type": "code",
   "execution_count": 54,
   "id": "c90f7dd8-3b3a-4bcf-a0e0-c5a818f5ced3",
   "metadata": {},
   "outputs": [],
   "source": [
    "def color_recode (series): \n",
    "    if series == \"G\": \n",
    "        return 0\n",
    "    if series == \"E\": \n",
    "        return 1\n",
    "    if series == \"F\": \n",
    "        return 2\n",
    "    if series == \"H\": \n",
    "        return 3\n",
    "    if series == \"D\": \n",
    "        return 4\n",
    "    if series == \"I\": \n",
    "        return 5\n",
    "    if series == \"J\": \n",
    "        return 6\n",
    "\n",
    "Diamonds['colorR'] = Diamonds['color'].apply(color_recode)"
   ]
  },
  {
   "cell_type": "code",
   "execution_count": 57,
   "id": "662491f1-2a9b-4f03-92ab-d4600d828043",
   "metadata": {},
   "outputs": [],
   "source": [
    "def clarity_recode (series): \n",
    "    if series == \"SI1\": \n",
    "        return 0\n",
    "    if series == \"VS2\": \n",
    "        return 1\n",
    "    if series == \"SI2\": \n",
    "        return 2\n",
    "    if series == \"VS1\": \n",
    "        return 3\n",
    "    if series == \"VVS2\": \n",
    "        return 4\n",
    "    if series == \"VVS1\": \n",
    "        return 5\n",
    "    if series == \"IF\": \n",
    "        return 6\n",
    "    if series == \"I1\":\n",
    "        return 7\n",
    "\n",
    "Diamonds['clarityR'] = Diamonds['clarity'].apply(clarity_recode)"
   ]
  },
  {
   "cell_type": "code",
   "execution_count": null,
   "id": "5a911ad0-602b-40d8-8331-b07b7ccac14a",
   "metadata": {},
   "outputs": [],
   "source": [
    "#Train Test Split"
   ]
  },
  {
   "cell_type": "code",
   "execution_count": 94,
   "id": "61b3579d-0e33-4192-8246-aef4f0134b4a",
   "metadata": {},
   "outputs": [],
   "source": [
    "x = Diamonds[['carat', 'cutR', 'colorR', 'clarityR']]"
   ]
  },
  {
   "cell_type": "code",
   "execution_count": 59,
   "id": "92b282d6-481d-4921-841e-47581063f0b0",
   "metadata": {},
   "outputs": [],
   "source": [
    "y = Diamonds['price']"
   ]
  },
  {
   "cell_type": "code",
   "execution_count": 92,
   "id": "4e6c45c7-dabe-4131-8b2b-ab52b1031bf3",
   "metadata": {},
   "outputs": [],
   "source": [
    "x_train, x_test, y_train, y_test = train_test_split(x,y, test_size = .4, random_state=101)"
   ]
  },
  {
   "cell_type": "code",
   "execution_count": 61,
   "id": "ba3a6068-f18b-4f97-8a34-7a4ec34e7bcd",
   "metadata": {},
   "outputs": [
    {
     "name": "stdout",
     "output_type": "stream",
     "text": [
      "(32364, 4) (32364,)\n",
      "(21576, 4) (21576,)\n"
     ]
    }
   ],
   "source": [
    "print(x_train.shape, y_train.shape)\n",
    "print(x_test.shape, y_test.shape)"
   ]
  },
  {
   "cell_type": "code",
   "execution_count": 62,
   "id": "2e2b1c40-0c8b-4988-8dc0-37c7ba47152a",
   "metadata": {},
   "outputs": [],
   "source": [
    "# This is showing that in the x_train dataset, there are 32,364 rows and 4 columns.\n",
    "# And in the x_test dataset, there are 21,576 rows and 4 columns."
   ]
  },
  {
   "cell_type": "code",
   "execution_count": 23,
   "id": "a64899e2-d831-4aa8-a276-376104410922",
   "metadata": {},
   "outputs": [],
   "source": [
    "# Create the Linear Regression Model"
   ]
  },
  {
   "cell_type": "code",
   "execution_count": 63,
   "id": "9ab65e0d-801a-4aa4-a670-1638ee1b7c36",
   "metadata": {},
   "outputs": [
    {
     "data": {
      "text/plain": [
       "LinearRegression()"
      ]
     },
     "execution_count": 63,
     "metadata": {},
     "output_type": "execute_result"
    }
   ],
   "source": [
    "lm = LinearRegression()\n",
    "lm.fit(x_train, y_train)"
   ]
  },
  {
   "cell_type": "code",
   "execution_count": null,
   "id": "c7216dad-9c17-4641-bb81-35acfed16de1",
   "metadata": {},
   "outputs": [],
   "source": [
    "# This worked!"
   ]
  },
  {
   "cell_type": "code",
   "execution_count": 25,
   "id": "655da140-fd34-4dc0-9dbf-a3611b1ef57a",
   "metadata": {},
   "outputs": [],
   "source": [
    "# Examine Predictions while interpreting supervised machine learning model accuracy"
   ]
  },
  {
   "cell_type": "code",
   "execution_count": 64,
   "id": "10c5d7d1-c9f2-45d9-92b3-5c0c15c7bccc",
   "metadata": {},
   "outputs": [
    {
     "data": {
      "text/plain": [
       "array([1165.46581506, -692.93654863, 7496.69472881, ...,   64.67417934,\n",
       "       3009.32535551,  332.44006198])"
      ]
     },
     "execution_count": 64,
     "metadata": {},
     "output_type": "execute_result"
    }
   ],
   "source": [
    "predictions = lm.predict(x_test)\n",
    "predictions"
   ]
  },
  {
   "cell_type": "code",
   "execution_count": 65,
   "id": "51addad5-d428-411d-826d-bd06b116e943",
   "metadata": {},
   "outputs": [
    {
     "data": {
      "text/plain": [
       "<matplotlib.collections.PathCollection at 0x181406cab60>"
      ]
     },
     "execution_count": 65,
     "metadata": {},
     "output_type": "execute_result"
    },
    {
     "data": {
      "image/png": "[encoded data removed]",
      "text/plain": [
       "<Figure size 432x288 with 1 Axes>"
      ]
     },
     "metadata": {
      "needs_background": "light"
     },
     "output_type": "display_data"
    }
   ],
   "source": [
    "plt.scatter(y_test, predictions)"
   ]
  },
  {
   "cell_type": "code",
   "execution_count": 66,
   "id": "d0ca3596-1c56-4332-8c1e-d6abfec65d4a",
   "metadata": {},
   "outputs": [],
   "source": [
    "# The straighter the line, the better the model fit. Go ahead and make a scatterplot with the plt.scatter f(x), graphing the y_test data against the predictions from your training model."
   ]
  },
  {
   "cell_type": "code",
   "execution_count": 67,
   "id": "ede86e25-2455-4de3-96fc-174d14276b76",
   "metadata": {},
   "outputs": [],
   "source": [
    "# The accuracy is quite wonderful except for a few outliers. Let's quantify the accuracy using accuracy score."
   ]
  },
  {
   "cell_type": "code",
   "execution_count": 68,
   "id": "4a587fd1-f7aa-4fbf-8fe9-728ab8009661",
   "metadata": {},
   "outputs": [
    {
     "name": "stdout",
     "output_type": "stream",
     "text": [
      "Score: 0.8663595382516975\n"
     ]
    }
   ],
   "source": [
    "print(\"Score:\", lm.score(x_test, y_test))"
   ]
  },
  {
   "cell_type": "code",
   "execution_count": 76,
   "id": "037f4bcd-33b5-4000-8b29-94a9f4796ec4",
   "metadata": {},
   "outputs": [],
   "source": [
    "# This means the model is accurate approximately 86.64% of the time, which is quite high in the real world."
   ]
  },
  {
   "cell_type": "code",
   "execution_count": 77,
   "id": "c92d0e71-3030-4650-b9a3-49a47e8fa8cb",
   "metadata": {},
   "outputs": [],
   "source": [
    "# Getting the Mean Abslute Error (MAE)"
   ]
  },
  {
   "cell_type": "code",
   "execution_count": 78,
   "id": "434e0ba3-f08c-432a-981a-5a196eb7604a",
   "metadata": {},
   "outputs": [
    {
     "data": {
      "text/plain": [
       "947.8404182717245"
      ]
     },
     "execution_count": 78,
     "metadata": {},
     "output_type": "execute_result"
    }
   ],
   "source": [
    "metrics.mean_absolute_error(y_test, predictions)"
   ]
  },
  {
   "cell_type": "code",
   "execution_count": 79,
   "id": "ed8f8d2d-21e3-4a4c-b5a4-1a544da55bb3",
   "metadata": {},
   "outputs": [],
   "source": [
    "# The avg amount of error between the prediction and the real data is 947.84"
   ]
  },
  {
   "cell_type": "code",
   "execution_count": 80,
   "id": "c54755af-2607-489c-b0db-cfebf87f6246",
   "metadata": {},
   "outputs": [],
   "source": [
    "# Getting the Mean Squared Error (MSE)"
   ]
  },
  {
   "cell_type": "code",
   "execution_count": 81,
   "id": "d024f1b4-9fcb-48ec-b556-a427bc591ee1",
   "metadata": {},
   "outputs": [
    {
     "data": {
      "text/plain": [
       "2108957.1798411086"
      ]
     },
     "execution_count": 81,
     "metadata": {},
     "output_type": "execute_result"
    }
   ],
   "source": [
    "metrics.mean_squared_error(y_test, predictions)"
   ]
  },
  {
   "cell_type": "code",
   "execution_count": 82,
   "id": "3dcaab7c-9ea8-4b58-9422-863eeceff532",
   "metadata": {},
   "outputs": [],
   "source": [
    "# This is the square of the absolute error from above. This one would be\n",
    "# used because it takes into account large amounts of error, which often\n",
    "# happens in the real world."
   ]
  },
  {
   "cell_type": "code",
   "execution_count": 95,
   "id": "41767226-6f09-4efa-864b-94a0b50b32ae",
   "metadata": {},
   "outputs": [],
   "source": [
    "# Getting Root Mean Squared Error (RMSE)"
   ]
  },
  {
   "cell_type": "code",
   "execution_count": 84,
   "id": "c684d9ef-0af2-467e-92a5-c43417ecd3dd",
   "metadata": {},
   "outputs": [
    {
     "data": {
      "text/plain": [
       "1452.2249067693022"
      ]
     },
     "execution_count": 84,
     "metadata": {},
     "output_type": "execute_result"
    }
   ],
   "source": [
    "np.sqrt(metrics.mean_squared_error(y_test, predictions))"
   ]
  },
  {
   "cell_type": "code",
   "execution_count": 89,
   "id": "4301957b-2f9d-45e8-9690-b0374afe16e4",
   "metadata": {},
   "outputs": [],
   "source": [
    "# The closer to zero the RMSE is the better the model fits. Here indicates that the model does not fit well."
   ]
  },
  {
   "cell_type": "code",
   "execution_count": 45,
   "id": "bf2a0bd9-b5f6-492e-8247-cef310bbdb9f",
   "metadata": {},
   "outputs": [],
   "source": [
    "# Creating the Folds"
   ]
  },
  {
   "cell_type": "code",
   "execution_count": 93,
   "id": "4b7e99f8-7f12-4fa6-bf84-1ee8c7fd5839",
   "metadata": {},
   "outputs": [
    {
     "name": "stdout",
     "output_type": "stream",
     "text": [
      "train: [    0     1     4 ... 53937 53938 53939], test: [    2     3     8 ... 53932 53934 53935]\n",
      "train: [    1     2     3 ... 53935 53938 53939], test: [    0     4     6 ... 53933 53936 53937]\n",
      "train: [    0     2     3 ... 53935 53936 53937], test: [    1     5     9 ... 53931 53938 53939]\n"
     ]
    }
   ],
   "source": [
    "kfold = KFold(n_splits = 3, shuffle=True, random_state=1)\n",
    "for train, test in kfold.split(x,y):\n",
    "    print('train: %s, test: %s' % (train,test))"
   ]
  },
  {
   "cell_type": "code",
   "execution_count": 86,
   "id": "d93ccd7b-fb1b-444e-9259-8c83d15aab2d",
   "metadata": {},
   "outputs": [],
   "source": [
    "# Running something cross-validated"
   ]
  },
  {
   "cell_type": "code",
   "execution_count": 87,
   "id": "b359af76-0f91-4e8e-b2bd-a9d19b3ac952",
   "metadata": {},
   "outputs": [
    {
     "name": "stdout",
     "output_type": "stream",
     "text": [
      "[0.8612281  0.86147566 0.86876184]\n"
     ]
    }
   ],
   "source": [
    "print(cross_val_score(lm, x,y, cv=3))"
   ]
  },
  {
   "cell_type": "code",
   "execution_count": 88,
   "id": "4f4c809f-4961-4a8e-bf92-ccc7f81c0e26",
   "metadata": {},
   "outputs": [],
   "source": [
    "# Looks like the first trained model was accurate 86.12% of the time,\n",
    "# while the second model was accurate 86.15% of the time, and the third\n",
    "# model was accurate 86.88% of the time."
   ]
  },
  {
   "cell_type": "code",
   "execution_count": null,
   "id": "b8011fb6-7dc2-451a-84db-98bcb547ab86",
   "metadata": {},
   "outputs": [],
   "source": []
  }
 ],
 "metadata": {
  "kernelspec": {
   "display_name": "Python 3 (ipykernel)",
   "language": "python",
   "name": "python3"
  },
  "language_info": {
   "codemirror_mode": {
    "name": "ipython",
    "version": 3
   },
   "file_extension": ".py",
   "mimetype": "text/x-python",
   "name": "python",
   "nbconvert_exporter": "python",
   "pygments_lexer": "ipython3",
   "version": "3.10.2"
  }
 },
 "nbformat": 4,
 "nbformat_minor": 5
}
