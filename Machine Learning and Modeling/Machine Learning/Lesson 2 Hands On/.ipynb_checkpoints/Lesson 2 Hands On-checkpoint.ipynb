{
 "cells": [
  {
   "cell_type": "markdown",
   "id": "9987c891-7755-401d-b414-e344c77eb82a",
   "metadata": {},
   "source": [
    "# Question: How are the cars in this dataset grouped together?"
   ]
  },
  {
   "cell_type": "markdown",
   "id": "1fdfde5a-ec1b-4a44-bfab-68c07192340d",
   "metadata": {
    "tags": []
   },
   "source": [
    "# Import Packages"
   ]
  },
  {
   "cell_type": "code",
   "execution_count": 2,
   "id": "f7ff5fea-6f2d-41d9-a540-658e48f3130b",
   "metadata": {},
   "outputs": [],
   "source": [
    "import pandas as pd\n",
    "import numpy as np\n",
    "import matplotlib.pyplot as plt\n",
    "import seaborn as sns\n",
    "%matplotlib inline\n",
    "from sklearn.preprocessing import StandardScaler\n",
    "from sklearn.model_selection import train_test_split\n",
    "from sklearn.neighbors import KNeighborsClassifier\n",
    "from sklearn.metrics import classification_report, confusion_matrix\n",
    "from sklearn.cluster import KMeans"
   ]
  },
  {
   "cell_type": "markdown",
   "id": "ebee2a9d-aee3-4320-929d-3b3b7c499294",
   "metadata": {},
   "source": [
    "# Load Dataset"
   ]
  },
  {
   "cell_type": "code",
   "execution_count": 3,
   "id": "d7ecea37-3577-4139-908b-bb02b700864f",
   "metadata": {},
   "outputs": [],
   "source": [
    "Mpg = sns.load_dataset('mpg')"
   ]
  },
  {
   "cell_type": "code",
   "execution_count": 4,
   "id": "e0fd2d38-5fc9-49d8-bea9-f0987ff85c14",
   "metadata": {},
   "outputs": [
    {
     "data": {
      "text/html": [
       "<div>\n",
       "<style scoped>\n",
       "    .dataframe tbody tr th:only-of-type {\n",
       "        vertical-align: middle;\n",
       "    }\n",
       "\n",
       "    .dataframe tbody tr th {\n",
       "        vertical-align: top;\n",
       "    }\n",
       "\n",
       "    .dataframe thead th {\n",
       "        text-align: right;\n",
       "    }\n",
       "</style>\n",
       "<table border=\"1\" class=\"dataframe\">\n",
       "  <thead>\n",
       "    <tr style=\"text-align: right;\">\n",
       "      <th></th>\n",
       "      <th>mpg</th>\n",
       "      <th>cylinders</th>\n",
       "      <th>displacement</th>\n",
       "      <th>horsepower</th>\n",
       "      <th>weight</th>\n",
       "      <th>acceleration</th>\n",
       "      <th>model_year</th>\n",
       "      <th>origin</th>\n",
       "      <th>name</th>\n",
       "    </tr>\n",
       "  </thead>\n",
       "  <tbody>\n",
       "    <tr>\n",
       "      <th>0</th>\n",
       "      <td>18.0</td>\n",
       "      <td>8</td>\n",
       "      <td>307.0</td>\n",
       "      <td>130.0</td>\n",
       "      <td>3504</td>\n",
       "      <td>12.0</td>\n",
       "      <td>70</td>\n",
       "      <td>usa</td>\n",
       "      <td>chevrolet chevelle malibu</td>\n",
       "    </tr>\n",
       "    <tr>\n",
       "      <th>1</th>\n",
       "      <td>15.0</td>\n",
       "      <td>8</td>\n",
       "      <td>350.0</td>\n",
       "      <td>165.0</td>\n",
       "      <td>3693</td>\n",
       "      <td>11.5</td>\n",
       "      <td>70</td>\n",
       "      <td>usa</td>\n",
       "      <td>buick skylark 320</td>\n",
       "    </tr>\n",
       "    <tr>\n",
       "      <th>2</th>\n",
       "      <td>18.0</td>\n",
       "      <td>8</td>\n",
       "      <td>318.0</td>\n",
       "      <td>150.0</td>\n",
       "      <td>3436</td>\n",
       "      <td>11.0</td>\n",
       "      <td>70</td>\n",
       "      <td>usa</td>\n",
       "      <td>plymouth satellite</td>\n",
       "    </tr>\n",
       "    <tr>\n",
       "      <th>3</th>\n",
       "      <td>16.0</td>\n",
       "      <td>8</td>\n",
       "      <td>304.0</td>\n",
       "      <td>150.0</td>\n",
       "      <td>3433</td>\n",
       "      <td>12.0</td>\n",
       "      <td>70</td>\n",
       "      <td>usa</td>\n",
       "      <td>amc rebel sst</td>\n",
       "    </tr>\n",
       "    <tr>\n",
       "      <th>4</th>\n",
       "      <td>17.0</td>\n",
       "      <td>8</td>\n",
       "      <td>302.0</td>\n",
       "      <td>140.0</td>\n",
       "      <td>3449</td>\n",
       "      <td>10.5</td>\n",
       "      <td>70</td>\n",
       "      <td>usa</td>\n",
       "      <td>ford torino</td>\n",
       "    </tr>\n",
       "  </tbody>\n",
       "</table>\n",
       "</div>"
      ],
      "text/plain": [
       "    mpg  cylinders  displacement  horsepower  weight  acceleration  \\\n",
       "0  18.0          8         307.0       130.0    3504          12.0   \n",
       "1  15.0          8         350.0       165.0    3693          11.5   \n",
       "2  18.0          8         318.0       150.0    3436          11.0   \n",
       "3  16.0          8         304.0       150.0    3433          12.0   \n",
       "4  17.0          8         302.0       140.0    3449          10.5   \n",
       "\n",
       "   model_year origin                       name  \n",
       "0          70    usa  chevrolet chevelle malibu  \n",
       "1          70    usa          buick skylark 320  \n",
       "2          70    usa         plymouth satellite  \n",
       "3          70    usa              amc rebel sst  \n",
       "4          70    usa                ford torino  "
      ]
     },
     "execution_count": 4,
     "metadata": {},
     "output_type": "execute_result"
    }
   ],
   "source": [
    "Mpg.head()"
   ]
  },
  {
   "cell_type": "markdown",
   "id": "882db465-5808-4b55-9660-454fbf103e0b",
   "metadata": {},
   "source": [
    "# Drop Categorical Variables and Missing Values"
   ]
  },
  {
   "cell_type": "code",
   "execution_count": 5,
   "id": "7cc4ad65-c06d-4706-a120-daaa0eb0b085",
   "metadata": {},
   "outputs": [],
   "source": [
    "MpgTrimmed = Mpg.drop(['origin', 'name'], axis = 1)"
   ]
  },
  {
   "cell_type": "code",
   "execution_count": 6,
   "id": "ff4db1f4-fa30-4d1c-b36f-146bb23ff248",
   "metadata": {},
   "outputs": [],
   "source": [
    "MpgTrimmed.dropna(inplace=True)"
   ]
  },
  {
   "cell_type": "code",
   "execution_count": 7,
   "id": "728e1954-0f69-4e8c-b2e7-18400b87f3ae",
   "metadata": {},
   "outputs": [
    {
     "name": "stdout",
     "output_type": "stream",
     "text": [
      "      mpg  cylinders  displacement  horsepower  weight  acceleration  \\\n",
      "0    18.0          8         307.0       130.0    3504          12.0   \n",
      "1    15.0          8         350.0       165.0    3693          11.5   \n",
      "2    18.0          8         318.0       150.0    3436          11.0   \n",
      "3    16.0          8         304.0       150.0    3433          12.0   \n",
      "4    17.0          8         302.0       140.0    3449          10.5   \n",
      "..    ...        ...           ...         ...     ...           ...   \n",
      "393  27.0          4         140.0        86.0    2790          15.6   \n",
      "394  44.0          4          97.0        52.0    2130          24.6   \n",
      "395  32.0          4         135.0        84.0    2295          11.6   \n",
      "396  28.0          4         120.0        79.0    2625          18.6   \n",
      "397  31.0          4         119.0        82.0    2720          19.4   \n",
      "\n",
      "     model_year  \n",
      "0            70  \n",
      "1            70  \n",
      "2            70  \n",
      "3            70  \n",
      "4            70  \n",
      "..          ...  \n",
      "393          82  \n",
      "394          82  \n",
      "395          82  \n",
      "396          82  \n",
      "397          82  \n",
      "\n",
      "[392 rows x 7 columns]\n"
     ]
    }
   ],
   "source": [
    "print(MpgTrimmed)"
   ]
  },
  {
   "cell_type": "code",
   "execution_count": 9,
   "id": "5f435425-e972-42e5-ade4-02e080ce46f3",
   "metadata": {},
   "outputs": [
    {
     "data": {
      "text/plain": [
       "mpg             392\n",
       "cylinders       392\n",
       "displacement    392\n",
       "horsepower      392\n",
       "weight          392\n",
       "acceleration    392\n",
       "model_year      392\n",
       "dtype: int64"
      ]
     },
     "execution_count": 9,
     "metadata": {},
     "output_type": "execute_result"
    }
   ],
   "source": [
    "MpgTrimmed.count()"
   ]
  },
  {
   "cell_type": "code",
   "execution_count": 10,
   "id": "1fa9cd93-4489-4471-8dca-390ac3226106",
   "metadata": {},
   "outputs": [
    {
     "data": {
      "text/html": [
       "<div>\n",
       "<style scoped>\n",
       "    .dataframe tbody tr th:only-of-type {\n",
       "        vertical-align: middle;\n",
       "    }\n",
       "\n",
       "    .dataframe tbody tr th {\n",
       "        vertical-align: top;\n",
       "    }\n",
       "\n",
       "    .dataframe thead th {\n",
       "        text-align: right;\n",
       "    }\n",
       "</style>\n",
       "<table border=\"1\" class=\"dataframe\">\n",
       "  <thead>\n",
       "    <tr style=\"text-align: right;\">\n",
       "      <th></th>\n",
       "      <th>mpg</th>\n",
       "      <th>cylinders</th>\n",
       "      <th>displacement</th>\n",
       "      <th>horsepower</th>\n",
       "      <th>weight</th>\n",
       "      <th>acceleration</th>\n",
       "      <th>model_year</th>\n",
       "    </tr>\n",
       "  </thead>\n",
       "  <tbody>\n",
       "    <tr>\n",
       "      <th>0</th>\n",
       "      <td>18.0</td>\n",
       "      <td>8</td>\n",
       "      <td>307.0</td>\n",
       "      <td>130.0</td>\n",
       "      <td>3504</td>\n",
       "      <td>12.0</td>\n",
       "      <td>70</td>\n",
       "    </tr>\n",
       "    <tr>\n",
       "      <th>1</th>\n",
       "      <td>15.0</td>\n",
       "      <td>8</td>\n",
       "      <td>350.0</td>\n",
       "      <td>165.0</td>\n",
       "      <td>3693</td>\n",
       "      <td>11.5</td>\n",
       "      <td>70</td>\n",
       "    </tr>\n",
       "    <tr>\n",
       "      <th>2</th>\n",
       "      <td>18.0</td>\n",
       "      <td>8</td>\n",
       "      <td>318.0</td>\n",
       "      <td>150.0</td>\n",
       "      <td>3436</td>\n",
       "      <td>11.0</td>\n",
       "      <td>70</td>\n",
       "    </tr>\n",
       "    <tr>\n",
       "      <th>3</th>\n",
       "      <td>16.0</td>\n",
       "      <td>8</td>\n",
       "      <td>304.0</td>\n",
       "      <td>150.0</td>\n",
       "      <td>3433</td>\n",
       "      <td>12.0</td>\n",
       "      <td>70</td>\n",
       "    </tr>\n",
       "    <tr>\n",
       "      <th>4</th>\n",
       "      <td>17.0</td>\n",
       "      <td>8</td>\n",
       "      <td>302.0</td>\n",
       "      <td>140.0</td>\n",
       "      <td>3449</td>\n",
       "      <td>10.5</td>\n",
       "      <td>70</td>\n",
       "    </tr>\n",
       "  </tbody>\n",
       "</table>\n",
       "</div>"
      ],
      "text/plain": [
       "    mpg  cylinders  displacement  horsepower  weight  acceleration  model_year\n",
       "0  18.0          8         307.0       130.0    3504          12.0          70\n",
       "1  15.0          8         350.0       165.0    3693          11.5          70\n",
       "2  18.0          8         318.0       150.0    3436          11.0          70\n",
       "3  16.0          8         304.0       150.0    3433          12.0          70\n",
       "4  17.0          8         302.0       140.0    3449          10.5          70"
      ]
     },
     "execution_count": 10,
     "metadata": {},
     "output_type": "execute_result"
    }
   ],
   "source": [
    "MpgTrimmed.head()"
   ]
  },
  {
   "cell_type": "markdown",
   "id": "5c446b87-6eaf-47c6-bc10-e97d52622230",
   "metadata": {},
   "source": [
    "# Perform k-Means"
   ]
  },
  {
   "cell_type": "markdown",
   "id": "b27069d4-b2e6-4c28-8268-41dabf8913b2",
   "metadata": {},
   "source": [
    "# Convert floats into integers"
   ]
  },
  {
   "cell_type": "code",
   "execution_count": 11,
   "id": "2bc30caf-c54c-495b-ab1c-b03a05cd75ce",
   "metadata": {},
   "outputs": [
    {
     "name": "stdout",
     "output_type": "stream",
     "text": [
      "<class 'pandas.core.frame.DataFrame'>\n",
      "Int64Index: 392 entries, 0 to 397\n",
      "Data columns (total 7 columns):\n",
      " #   Column        Non-Null Count  Dtype  \n",
      "---  ------        --------------  -----  \n",
      " 0   mpg           392 non-null    float64\n",
      " 1   cylinders     392 non-null    int64  \n",
      " 2   displacement  392 non-null    float64\n",
      " 3   horsepower    392 non-null    float64\n",
      " 4   weight        392 non-null    int64  \n",
      " 5   acceleration  392 non-null    float64\n",
      " 6   model_year    392 non-null    int64  \n",
      "dtypes: float64(4), int64(3)\n",
      "memory usage: 24.5 KB\n"
     ]
    }
   ],
   "source": [
    "MpgTrimmed.info()"
   ]
  },
  {
   "cell_type": "markdown",
   "id": "9c2e3d74-4269-4816-a4ac-c33d7d3682cc",
   "metadata": {},
   "source": [
    "*Looks like mpg, displacement, horsepower, acceleration are all floats, so they will need to be converted to integers*"
   ]
  },
  {
   "cell_type": "code",
   "execution_count": 12,
   "id": "de9fd8c4-b8d4-48df-bffc-d818798e1342",
   "metadata": {},
   "outputs": [],
   "source": [
    "MpgTrimmed.mpg = MpgTrimmed.mpg.astype(int)"
   ]
  },
  {
   "cell_type": "code",
   "execution_count": 13,
   "id": "63f406a5-d116-4c8e-b4c7-f3033abe7c68",
   "metadata": {},
   "outputs": [],
   "source": [
    "MpgTrimmed.displacement = MpgTrimmed.displacement.astype(int)\n",
    "MpgTrimmed.horsepower = MpgTrimmed.horsepower.astype(int)\n",
    "MpgTrimmed.acceleration = MpgTrimmed.acceleration.astype(int)"
   ]
  },
  {
   "cell_type": "markdown",
   "id": "b19c4c38-ccdc-4222-a22a-d83b58b2d56e",
   "metadata": {},
   "source": [
    "# Perform K-Means Clustering"
   ]
  },
  {
   "cell_type": "markdown",
   "id": "0dbd2863-9028-46e1-b1e0-b106357bef58",
   "metadata": {},
   "source": [
    "## Testing 2 Clusters"
   ]
  },
  {
   "cell_type": "code",
   "execution_count": 14,
   "id": "ba1f91b2-d377-4cf6-a133-bae108de3f8b",
   "metadata": {},
   "outputs": [
    {
     "data": {
      "text/plain": [
       "KMeans(n_clusters=2)"
      ]
     },
     "execution_count": 14,
     "metadata": {},
     "output_type": "execute_result"
    }
   ],
   "source": [
    "kmeans = KMeans(n_clusters = 2)\n",
    "kmeans.fit(MpgTrimmed)"
   ]
  },
  {
   "cell_type": "code",
   "execution_count": 15,
   "id": "cc44cdf6-a41f-438f-9abe-e2c39c3af2d5",
   "metadata": {},
   "outputs": [],
   "source": [
    "MpgTrimmed['Group'] = kmeans.labels_"
   ]
  },
  {
   "cell_type": "code",
   "execution_count": 16,
   "id": "0af8d915-f341-4b84-b547-0ed420e1ea27",
   "metadata": {},
   "outputs": [
    {
     "data": {
      "text/html": [
       "<div>\n",
       "<style scoped>\n",
       "    .dataframe tbody tr th:only-of-type {\n",
       "        vertical-align: middle;\n",
       "    }\n",
       "\n",
       "    .dataframe tbody tr th {\n",
       "        vertical-align: top;\n",
       "    }\n",
       "\n",
       "    .dataframe thead th {\n",
       "        text-align: right;\n",
       "    }\n",
       "</style>\n",
       "<table border=\"1\" class=\"dataframe\">\n",
       "  <thead>\n",
       "    <tr style=\"text-align: right;\">\n",
       "      <th></th>\n",
       "      <th>mpg</th>\n",
       "      <th>cylinders</th>\n",
       "      <th>displacement</th>\n",
       "      <th>horsepower</th>\n",
       "      <th>weight</th>\n",
       "      <th>acceleration</th>\n",
       "      <th>model_year</th>\n",
       "      <th>Group</th>\n",
       "    </tr>\n",
       "  </thead>\n",
       "  <tbody>\n",
       "    <tr>\n",
       "      <th>0</th>\n",
       "      <td>18</td>\n",
       "      <td>8</td>\n",
       "      <td>307</td>\n",
       "      <td>130</td>\n",
       "      <td>3504</td>\n",
       "      <td>12</td>\n",
       "      <td>70</td>\n",
       "      <td>0</td>\n",
       "    </tr>\n",
       "    <tr>\n",
       "      <th>1</th>\n",
       "      <td>15</td>\n",
       "      <td>8</td>\n",
       "      <td>350</td>\n",
       "      <td>165</td>\n",
       "      <td>3693</td>\n",
       "      <td>11</td>\n",
       "      <td>70</td>\n",
       "      <td>0</td>\n",
       "    </tr>\n",
       "    <tr>\n",
       "      <th>2</th>\n",
       "      <td>18</td>\n",
       "      <td>8</td>\n",
       "      <td>318</td>\n",
       "      <td>150</td>\n",
       "      <td>3436</td>\n",
       "      <td>11</td>\n",
       "      <td>70</td>\n",
       "      <td>0</td>\n",
       "    </tr>\n",
       "    <tr>\n",
       "      <th>3</th>\n",
       "      <td>16</td>\n",
       "      <td>8</td>\n",
       "      <td>304</td>\n",
       "      <td>150</td>\n",
       "      <td>3433</td>\n",
       "      <td>12</td>\n",
       "      <td>70</td>\n",
       "      <td>0</td>\n",
       "    </tr>\n",
       "    <tr>\n",
       "      <th>4</th>\n",
       "      <td>17</td>\n",
       "      <td>8</td>\n",
       "      <td>302</td>\n",
       "      <td>140</td>\n",
       "      <td>3449</td>\n",
       "      <td>10</td>\n",
       "      <td>70</td>\n",
       "      <td>0</td>\n",
       "    </tr>\n",
       "  </tbody>\n",
       "</table>\n",
       "</div>"
      ],
      "text/plain": [
       "   mpg  cylinders  displacement  horsepower  weight  acceleration  model_year  \\\n",
       "0   18          8           307         130    3504            12          70   \n",
       "1   15          8           350         165    3693            11          70   \n",
       "2   18          8           318         150    3436            11          70   \n",
       "3   16          8           304         150    3433            12          70   \n",
       "4   17          8           302         140    3449            10          70   \n",
       "\n",
       "   Group  \n",
       "0      0  \n",
       "1      0  \n",
       "2      0  \n",
       "3      0  \n",
       "4      0  "
      ]
     },
     "execution_count": 16,
     "metadata": {},
     "output_type": "execute_result"
    }
   ],
   "source": [
    "MpgTrimmed.head()"
   ]
  },
  {
   "cell_type": "code",
   "execution_count": 17,
   "id": "7b0a7986-6711-45b9-8982-d407070490fd",
   "metadata": {},
   "outputs": [
    {
     "data": {
      "text/html": [
       "<div>\n",
       "<style scoped>\n",
       "    .dataframe tbody tr th:only-of-type {\n",
       "        vertical-align: middle;\n",
       "    }\n",
       "\n",
       "    .dataframe tbody tr th {\n",
       "        vertical-align: top;\n",
       "    }\n",
       "\n",
       "    .dataframe thead th {\n",
       "        text-align: right;\n",
       "    }\n",
       "</style>\n",
       "<table border=\"1\" class=\"dataframe\">\n",
       "  <thead>\n",
       "    <tr style=\"text-align: right;\">\n",
       "      <th></th>\n",
       "      <th>mpg</th>\n",
       "      <th>cylinders</th>\n",
       "      <th>displacement</th>\n",
       "      <th>horsepower</th>\n",
       "      <th>weight</th>\n",
       "      <th>acceleration</th>\n",
       "      <th>model_year</th>\n",
       "    </tr>\n",
       "    <tr>\n",
       "      <th>Group</th>\n",
       "      <th></th>\n",
       "      <th></th>\n",
       "      <th></th>\n",
       "      <th></th>\n",
       "      <th></th>\n",
       "      <th></th>\n",
       "      <th></th>\n",
       "    </tr>\n",
       "  </thead>\n",
       "  <tbody>\n",
       "    <tr>\n",
       "      <th>0</th>\n",
       "      <td>16.314103</td>\n",
       "      <td>7.237179</td>\n",
       "      <td>301.653846</td>\n",
       "      <td>137.564103</td>\n",
       "      <td>3879.532051</td>\n",
       "      <td>14.237179</td>\n",
       "      <td>74.762821</td>\n",
       "    </tr>\n",
       "    <tr>\n",
       "      <th>1</th>\n",
       "      <td>27.889831</td>\n",
       "      <td>4.305085</td>\n",
       "      <td>123.521186</td>\n",
       "      <td>82.593220</td>\n",
       "      <td>2381.381356</td>\n",
       "      <td>15.813559</td>\n",
       "      <td>76.783898</td>\n",
       "    </tr>\n",
       "  </tbody>\n",
       "</table>\n",
       "</div>"
      ],
      "text/plain": [
       "             mpg  cylinders  displacement  horsepower       weight  \\\n",
       "Group                                                                \n",
       "0      16.314103   7.237179    301.653846  137.564103  3879.532051   \n",
       "1      27.889831   4.305085    123.521186   82.593220  2381.381356   \n",
       "\n",
       "       acceleration  model_year  \n",
       "Group                            \n",
       "0         14.237179   74.762821  \n",
       "1         15.813559   76.783898  "
      ]
     },
     "execution_count": 17,
     "metadata": {},
     "output_type": "execute_result"
    }
   ],
   "source": [
    "MpgTrimmed.groupby('Group').mean()"
   ]
  },
  {
   "cell_type": "markdown",
   "id": "f80b9854-c892-4a07-9747-210e0d5f881a",
   "metadata": {},
   "source": [
    "*If you use two clusters, it looks like the first cluster contains cars that go slower, have more cylinders on average, have greater displacement, more horsepower, are heavier, accelerate slower, and are slightly older.  In summation: older trucks perhaps*"
   ]
  },
  {
   "cell_type": "markdown",
   "id": "0b0fe7b3-c34e-4f04-a43f-96cb8275ce38",
   "metadata": {},
   "source": [
    "## Testing 3 Clusters"
   ]
  },
  {
   "cell_type": "code",
   "execution_count": 19,
   "id": "4ccc2f68-ba11-4177-b9cb-4c659dbee7bc",
   "metadata": {},
   "outputs": [
    {
     "data": {
      "text/plain": [
       "KMeans(n_clusters=3)"
      ]
     },
     "execution_count": 19,
     "metadata": {},
     "output_type": "execute_result"
    }
   ],
   "source": [
    "kmeans = KMeans(n_clusters=3)\n",
    "kmeans.fit(MpgTrimmed)"
   ]
  },
  {
   "cell_type": "code",
   "execution_count": 20,
   "id": "1dfa6f49-8080-42a5-8649-b0bb6db7b0a1",
   "metadata": {},
   "outputs": [],
   "source": [
    "MpgTrimmed['Group'] = kmeans.labels_"
   ]
  },
  {
   "cell_type": "code",
   "execution_count": 21,
   "id": "0e436b03-2fac-4eeb-a70d-46a91438d191",
   "metadata": {},
   "outputs": [
    {
     "data": {
      "text/html": [
       "<div>\n",
       "<style scoped>\n",
       "    .dataframe tbody tr th:only-of-type {\n",
       "        vertical-align: middle;\n",
       "    }\n",
       "\n",
       "    .dataframe tbody tr th {\n",
       "        vertical-align: top;\n",
       "    }\n",
       "\n",
       "    .dataframe thead th {\n",
       "        text-align: right;\n",
       "    }\n",
       "</style>\n",
       "<table border=\"1\" class=\"dataframe\">\n",
       "  <thead>\n",
       "    <tr style=\"text-align: right;\">\n",
       "      <th></th>\n",
       "      <th>mpg</th>\n",
       "      <th>cylinders</th>\n",
       "      <th>displacement</th>\n",
       "      <th>horsepower</th>\n",
       "      <th>weight</th>\n",
       "      <th>acceleration</th>\n",
       "      <th>model_year</th>\n",
       "    </tr>\n",
       "    <tr>\n",
       "      <th>Group</th>\n",
       "      <th></th>\n",
       "      <th></th>\n",
       "      <th></th>\n",
       "      <th></th>\n",
       "      <th></th>\n",
       "      <th></th>\n",
       "      <th></th>\n",
       "    </tr>\n",
       "  </thead>\n",
       "  <tbody>\n",
       "    <tr>\n",
       "      <th>0</th>\n",
       "      <td>20.590164</td>\n",
       "      <td>5.819672</td>\n",
       "      <td>212.614754</td>\n",
       "      <td>105.401639</td>\n",
       "      <td>3162.581967</td>\n",
       "      <td>15.516393</td>\n",
       "      <td>76.352459</td>\n",
       "    </tr>\n",
       "    <tr>\n",
       "      <th>1</th>\n",
       "      <td>14.533333</td>\n",
       "      <td>7.866667</td>\n",
       "      <td>344.144444</td>\n",
       "      <td>157.811111</td>\n",
       "      <td>4236.322222</td>\n",
       "      <td>13.200000</td>\n",
       "      <td>74.011111</td>\n",
       "    </tr>\n",
       "    <tr>\n",
       "      <th>2</th>\n",
       "      <td>29.483333</td>\n",
       "      <td>4.038889</td>\n",
       "      <td>107.205556</td>\n",
       "      <td>77.166667</td>\n",
       "      <td>2222.827778</td>\n",
       "      <td>15.955556</td>\n",
       "      <td>76.711111</td>\n",
       "    </tr>\n",
       "  </tbody>\n",
       "</table>\n",
       "</div>"
      ],
      "text/plain": [
       "             mpg  cylinders  displacement  horsepower       weight  \\\n",
       "Group                                                                \n",
       "0      20.590164   5.819672    212.614754  105.401639  3162.581967   \n",
       "1      14.533333   7.866667    344.144444  157.811111  4236.322222   \n",
       "2      29.483333   4.038889    107.205556   77.166667  2222.827778   \n",
       "\n",
       "       acceleration  model_year  \n",
       "Group                            \n",
       "0         15.516393   76.352459  \n",
       "1         13.200000   74.011111  \n",
       "2         15.955556   76.711111  "
      ]
     },
     "execution_count": 21,
     "metadata": {},
     "output_type": "execute_result"
    }
   ],
   "source": [
    "MpgTrimmed.groupby('Group').mean()"
   ]
  },
  {
   "cell_type": "markdown",
   "id": "5a7fd5bc-6fdf-4728-8b33-b1e3fdd3a4d6",
   "metadata": {},
   "source": [
    "*Ok, now with three clusters, it looks like you have a group that gets better mpg and has fewer cylinders, is low on horsepower and is new and light. Probably little sedans.*\n",
    "\n",
    "*Then you have the original big, heavy, and slow group.* \n",
    "\n",
    "*The third one seems to be midrange cars*"
   ]
  },
  {
   "cell_type": "markdown",
   "id": "cf48fce5-1b14-48d1-8a71-f85b3135e3c2",
   "metadata": {
    "tags": []
   },
   "source": [
    "## Testing 4 Clusters"
   ]
  },
  {
   "cell_type": "code",
   "execution_count": 22,
   "id": "838debea-db26-4c6c-a14b-c8ebd3515469",
   "metadata": {},
   "outputs": [
    {
     "data": {
      "text/plain": [
       "KMeans(n_clusters=4)"
      ]
     },
     "execution_count": 22,
     "metadata": {},
     "output_type": "execute_result"
    }
   ],
   "source": [
    "kmeans = KMeans(n_clusters=4)\n",
    "kmeans.fit(MpgTrimmed)"
   ]
  },
  {
   "cell_type": "code",
   "execution_count": 23,
   "id": "56bffff5-cf08-4b81-a373-ae2c0814d02e",
   "metadata": {},
   "outputs": [],
   "source": [
    "MpgTrimmed['Group'] = kmeans.labels_"
   ]
  },
  {
   "cell_type": "code",
   "execution_count": 24,
   "id": "c811215d-fb85-4909-9eda-3c1baeaf9119",
   "metadata": {},
   "outputs": [
    {
     "data": {
      "text/html": [
       "<div>\n",
       "<style scoped>\n",
       "    .dataframe tbody tr th:only-of-type {\n",
       "        vertical-align: middle;\n",
       "    }\n",
       "\n",
       "    .dataframe tbody tr th {\n",
       "        vertical-align: top;\n",
       "    }\n",
       "\n",
       "    .dataframe thead th {\n",
       "        text-align: right;\n",
       "    }\n",
       "</style>\n",
       "<table border=\"1\" class=\"dataframe\">\n",
       "  <thead>\n",
       "    <tr style=\"text-align: right;\">\n",
       "      <th></th>\n",
       "      <th>mpg</th>\n",
       "      <th>cylinders</th>\n",
       "      <th>displacement</th>\n",
       "      <th>horsepower</th>\n",
       "      <th>weight</th>\n",
       "      <th>acceleration</th>\n",
       "      <th>model_year</th>\n",
       "    </tr>\n",
       "    <tr>\n",
       "      <th>Group</th>\n",
       "      <th></th>\n",
       "      <th></th>\n",
       "      <th></th>\n",
       "      <th></th>\n",
       "      <th></th>\n",
       "      <th></th>\n",
       "      <th></th>\n",
       "    </tr>\n",
       "  </thead>\n",
       "  <tbody>\n",
       "    <tr>\n",
       "      <th>0</th>\n",
       "      <td>18.179775</td>\n",
       "      <td>6.640449</td>\n",
       "      <td>259.966292</td>\n",
       "      <td>116.808989</td>\n",
       "      <td>3484.483146</td>\n",
       "      <td>15.337079</td>\n",
       "      <td>75.584270</td>\n",
       "    </tr>\n",
       "    <tr>\n",
       "      <th>1</th>\n",
       "      <td>13.898551</td>\n",
       "      <td>8.000000</td>\n",
       "      <td>356.536232</td>\n",
       "      <td>165.130435</td>\n",
       "      <td>4366.594203</td>\n",
       "      <td>12.782609</td>\n",
       "      <td>73.608696</td>\n",
       "    </tr>\n",
       "    <tr>\n",
       "      <th>2</th>\n",
       "      <td>24.418367</td>\n",
       "      <td>4.704082</td>\n",
       "      <td>154.346939</td>\n",
       "      <td>94.295918</td>\n",
       "      <td>2746.438776</td>\n",
       "      <td>15.326531</td>\n",
       "      <td>77.112245</td>\n",
       "    </tr>\n",
       "    <tr>\n",
       "      <th>3</th>\n",
       "      <td>30.566176</td>\n",
       "      <td>3.977941</td>\n",
       "      <td>98.125000</td>\n",
       "      <td>72.948529</td>\n",
       "      <td>2107.705882</td>\n",
       "      <td>16.205882</td>\n",
       "      <td>76.625000</td>\n",
       "    </tr>\n",
       "  </tbody>\n",
       "</table>\n",
       "</div>"
      ],
      "text/plain": [
       "             mpg  cylinders  displacement  horsepower       weight  \\\n",
       "Group                                                                \n",
       "0      18.179775   6.640449    259.966292  116.808989  3484.483146   \n",
       "1      13.898551   8.000000    356.536232  165.130435  4366.594203   \n",
       "2      24.418367   4.704082    154.346939   94.295918  2746.438776   \n",
       "3      30.566176   3.977941     98.125000   72.948529  2107.705882   \n",
       "\n",
       "       acceleration  model_year  \n",
       "Group                            \n",
       "0         15.337079   75.584270  \n",
       "1         12.782609   73.608696  \n",
       "2         15.326531   77.112245  \n",
       "3         16.205882   76.625000  "
      ]
     },
     "execution_count": 24,
     "metadata": {},
     "output_type": "execute_result"
    }
   ],
   "source": [
    "MpgTrimmed.groupby('Group').mean()"
   ]
  },
  {
   "cell_type": "markdown",
   "id": "683cbe91-6e1e-4007-9b7e-f2c09ac2d342",
   "metadata": {},
   "source": [
    "*Adding a fourth group in means that it looks like Group 2 becomes the oldest, heaviest, slowest group yet!*\n",
    "\n",
    "*Can probably stop now, since there doesn't seem to be a lot of differention between groups. It is subjective, but looks like three clusters may be optimal.*"
   ]
  }
 ],
 "metadata": {
  "kernelspec": {
   "display_name": "Python 3 (ipykernel)",
   "language": "python",
   "name": "python3"
  },
  "language_info": {
   "codemirror_mode": {
    "name": "ipython",
    "version": 3
   },
   "file_extension": ".py",
   "mimetype": "text/x-python",
   "name": "python",
   "nbconvert_exporter": "python",
   "pygments_lexer": "ipython3",
   "version": "3.10.2"
  }
 },
 "nbformat": 4,
 "nbformat_minor": 5
}
