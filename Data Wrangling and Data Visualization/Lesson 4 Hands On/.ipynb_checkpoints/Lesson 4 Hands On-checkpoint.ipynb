{
 "cells": [
  {
   "cell_type": "code",
   "execution_count": 4,
   "id": "50eef1ad-d4c4-49df-b696-650ed8e6f447",
   "metadata": {},
   "outputs": [],
   "source": [
    "import pandas as pd\n",
    "import numpy as np\n",
    "import matplotlib.pyplot as plt\n",
    "import matplotlib.mlab as mlab\n",
    "from pylab import *\n",
    "import seaborn as sns\n",
    "%matplotlib inline\n",
    "import statsmodels.api as sm\n",
    "import statsmodels.stats.api as sms\n",
    "from scipy.stats import boxcox\n",
    "import warnings\n",
    "warnings.filterwarnings('ignore')"
   ]
  },
  {
   "cell_type": "code",
   "execution_count": null,
   "id": "cb551cf9-b589-45b9-adf7-3ef4a849b346",
   "metadata": {},
   "outputs": [],
   "source": [
    "# Part One - Create a Histogram with Seven bins with the Power Boats "
   ]
  },
  {
   "cell_type": "code",
   "execution_count": 7,
   "id": "576c1668-5ceb-411f-b73d-d947f614d590",
   "metadata": {},
   "outputs": [],
   "source": [
    "power_boats = pd.read_csv('C:/Users/HP/Documents/Education/Other/Entity Academy/Data Wrangling and Data Visualization/Lesson 4 Hands On/L3P1.csv')"
   ]
  },
  {
   "cell_type": "code",
   "execution_count": 8,
   "id": "ca99b152-abb4-4098-8c4c-9570cb3a479f",
   "metadata": {},
   "outputs": [
    {
     "data": {
      "text/html": [
       "<div>\n",
       "<style scoped>\n",
       "    .dataframe tbody tr th:only-of-type {\n",
       "        vertical-align: middle;\n",
       "    }\n",
       "\n",
       "    .dataframe tbody tr th {\n",
       "        vertical-align: top;\n",
       "    }\n",
       "\n",
       "    .dataframe thead th {\n",
       "        text-align: right;\n",
       "    }\n",
       "</style>\n",
       "<table border=\"1\" class=\"dataframe\">\n",
       "  <thead>\n",
       "    <tr style=\"text-align: right;\">\n",
       "      <th></th>\n",
       "      <th>Power Boats (in 1000's)</th>\n",
       "    </tr>\n",
       "  </thead>\n",
       "  <tbody>\n",
       "    <tr>\n",
       "      <th>0</th>\n",
       "      <td>436</td>\n",
       "    </tr>\n",
       "    <tr>\n",
       "      <th>1</th>\n",
       "      <td>449</td>\n",
       "    </tr>\n",
       "    <tr>\n",
       "      <th>2</th>\n",
       "      <td>470</td>\n",
       "    </tr>\n",
       "    <tr>\n",
       "      <th>3</th>\n",
       "      <td>487</td>\n",
       "    </tr>\n",
       "    <tr>\n",
       "      <th>4</th>\n",
       "      <td>502</td>\n",
       "    </tr>\n",
       "  </tbody>\n",
       "</table>\n",
       "</div>"
      ],
      "text/plain": [
       "   Power Boats (in 1000's)\n",
       "0                      436\n",
       "1                      449\n",
       "2                      470\n",
       "3                      487\n",
       "4                      502"
      ]
     },
     "execution_count": 8,
     "metadata": {},
     "output_type": "execute_result"
    }
   ],
   "source": [
    "power_boats.head()"
   ]
  },
  {
   "cell_type": "code",
   "execution_count": 6,
   "id": "65e5ebd4-12f9-4b4b-803a-1b966edf26f0",
   "metadata": {},
   "outputs": [
    {
     "data": {
      "text/plain": [
       "array([[<AxesSubplot:title={'center':\"Power Boats (in 1000's)\"}>]],\n",
       "      dtype=object)"
      ]
     },
     "execution_count": 6,
     "metadata": {},
     "output_type": "execute_result"
    },
    {
     "data": {
      "image/png": "[encoded data removed]",
      "text/plain": [
       "<Figure size 432x288 with 1 Axes>"
      ]
     },
     "metadata": {
      "needs_background": "light"
     },
     "output_type": "display_data"
    }
   ],
   "source": [
    "power_boats.hist()"
   ]
  },
  {
   "cell_type": "code",
   "execution_count": null,
   "id": "79482564-4547-444c-a55c-fa6eee48841a",
   "metadata": {},
   "outputs": [],
   "source": [
    "#In this simple histogram, the highest values of power boats registered in Florida over the span of 35 years was 675K-725K at seven years, and 960K to 110K at 7 years. There has been an uneven rise and decline in registered powerboats over the first decade of the 35 year span."
   ]
  },
  {
   "cell_type": "code",
   "execution_count": 8,
   "id": "ddf26beb-08aa-499f-8962-d577e82d1cf6",
   "metadata": {},
   "outputs": [
    {
     "data": {
      "text/plain": [
       "<AxesSubplot:xlabel=\"Power Boats (in 1000's)\", ylabel='Density'>"
      ]
     },
     "execution_count": 8,
     "metadata": {},
     "output_type": "execute_result"
    },
    {
     "data": {
      "image/png": "[encoded data removed]",
      "text/plain": [
       "<Figure size 432x288 with 1 Axes>"
      ]
     },
     "metadata": {
      "needs_background": "light"
     },
     "output_type": "display_data"
    }
   ],
   "source": [
    "sns.distplot(power_boats.iloc [:,0], bins=7)"
   ]
  },
  {
   "cell_type": "code",
   "execution_count": null,
   "id": "5b7f8b90-4ab4-40c9-bee5-b6b6658bd8f7",
   "metadata": {},
   "outputs": [],
   "source": [
    "#As time increased, the number of registered power boats in Florida increased after taking a few dives until the 35 year mark, where more than 1M power boats were registered in Florida."
   ]
  },
  {
   "cell_type": "code",
   "execution_count": null,
   "id": "3fda7aac-253a-40d8-be56-77e5b7189285",
   "metadata": {},
   "outputs": [],
   "source": [
    "# Using MatPlotLib to create a Histogram"
   ]
  },
  {
   "cell_type": "code",
   "execution_count": 12,
   "id": "41eddd83-f9a6-4d47-8727-2f89b0301344",
   "metadata": {},
   "outputs": [],
   "source": [
    "num_bins = 7"
   ]
  },
  {
   "cell_type": "code",
   "execution_count": 15,
   "id": "f7ec07d3-e066-4ff4-8e97-4f9902a8790a",
   "metadata": {},
   "outputs": [
    {
     "data": {
      "text/plain": [
       "<function matplotlib.pyplot.show(close=None, block=None)>"
      ]
     },
     "execution_count": 15,
     "metadata": {},
     "output_type": "execute_result"
    },
    {
     "data": {
      "image/png": "[encoded data removed]",
      "text/plain": [
       "<Figure size 432x288 with 1 Axes>"
      ]
     },
     "metadata": {
      "needs_background": "light"
     },
     "output_type": "display_data"
    }
   ],
   "source": [
    "n, bins, patches = plt.hist(power_boats[\"Power Boats (in 1000's)\"], num_bins, facecolor='blue', alpha=.05)\n",
    "plt.xlabel('Years')\n",
    "plt.ylabel(\"Power Boats Registered in 1000's\")\n",
    "plt.title('Histogram of Power Boats Registered over 35 Years')\n",
    "plt.show"
   ]
  },
  {
   "cell_type": "code",
   "execution_count": null,
   "id": "7253c44c-2a65-4200-9799-a60df00677d9",
   "metadata": {},
   "outputs": [],
   "source": [
    "#Part Two - Create a Bar Graph"
   ]
  },
  {
   "cell_type": "code",
   "execution_count": 3,
   "id": "f549f89f-8f71-4170-935c-acd0e1b07efb",
   "metadata": {},
   "outputs": [],
   "source": [
    "cars = pd.read_csv('C:/Users/HP/Documents/Education/Other/Entity Academy/Data Wrangling and Data Visualization/Lesson 4 Hands On/L3P2.csv')"
   ]
  },
  {
   "cell_type": "code",
   "execution_count": 18,
   "id": "59ced901-7ede-47b9-9b20-f13137adf940",
   "metadata": {},
   "outputs": [
    {
     "data": {
      "text/html": [
       "<div>\n",
       "<style scoped>\n",
       "    .dataframe tbody tr th:only-of-type {\n",
       "        vertical-align: middle;\n",
       "    }\n",
       "\n",
       "    .dataframe tbody tr th {\n",
       "        vertical-align: top;\n",
       "    }\n",
       "\n",
       "    .dataframe thead th {\n",
       "        text-align: right;\n",
       "    }\n",
       "</style>\n",
       "<table border=\"1\" class=\"dataframe\">\n",
       "  <thead>\n",
       "    <tr style=\"text-align: right;\">\n",
       "      <th></th>\n",
       "      <th>Cars</th>\n",
       "    </tr>\n",
       "  </thead>\n",
       "  <tbody>\n",
       "    <tr>\n",
       "      <th>0</th>\n",
       "      <td>Mitsubishi</td>\n",
       "    </tr>\n",
       "    <tr>\n",
       "      <th>1</th>\n",
       "      <td>Mitsubishi</td>\n",
       "    </tr>\n",
       "    <tr>\n",
       "      <th>2</th>\n",
       "      <td>Dodge</td>\n",
       "    </tr>\n",
       "    <tr>\n",
       "      <th>3</th>\n",
       "      <td>Mitsubishi</td>\n",
       "    </tr>\n",
       "    <tr>\n",
       "      <th>4</th>\n",
       "      <td>Dodge</td>\n",
       "    </tr>\n",
       "    <tr>\n",
       "      <th>...</th>\n",
       "      <td>...</td>\n",
       "    </tr>\n",
       "    <tr>\n",
       "      <th>81</th>\n",
       "      <td>Jaguar</td>\n",
       "    </tr>\n",
       "    <tr>\n",
       "      <th>82</th>\n",
       "      <td>Jaguar</td>\n",
       "    </tr>\n",
       "    <tr>\n",
       "      <th>83</th>\n",
       "      <td>Jaguar</td>\n",
       "    </tr>\n",
       "    <tr>\n",
       "      <th>84</th>\n",
       "      <td>Mitsubishi</td>\n",
       "    </tr>\n",
       "    <tr>\n",
       "      <th>85</th>\n",
       "      <td>Jaguar</td>\n",
       "    </tr>\n",
       "  </tbody>\n",
       "</table>\n",
       "<p>86 rows × 1 columns</p>\n",
       "</div>"
      ],
      "text/plain": [
       "          Cars\n",
       "0   Mitsubishi\n",
       "1   Mitsubishi\n",
       "2        Dodge\n",
       "3   Mitsubishi\n",
       "4        Dodge\n",
       "..         ...\n",
       "81      Jaguar\n",
       "82      Jaguar\n",
       "83      Jaguar\n",
       "84  Mitsubishi\n",
       "85      Jaguar\n",
       "\n",
       "[86 rows x 1 columns]"
      ]
     },
     "execution_count": 18,
     "metadata": {},
     "output_type": "execute_result"
    }
   ],
   "source": [
    "cars"
   ]
  },
  {
   "cell_type": "code",
   "execution_count": 45,
   "id": "1f61a0bf-266f-4476-b165-10f2c62fa3d8",
   "metadata": {},
   "outputs": [
    {
     "data": {
      "text/plain": [
       "Text(0, 0.5, 'Frequency')"
      ]
     },
     "execution_count": 45,
     "metadata": {},
     "output_type": "execute_result"
    },
    {
     "data": {
      "image/png": "[encoded data removed]",
      "text/plain": [
       "<Figure size 432x288 with 1 Axes>"
      ]
     },
     "metadata": {
      "needs_background": "light"
     },
     "output_type": "display_data"
    }
   ],
   "source": [
    "carModelFrq = cars.value_counts().plot(kind='bar')\n",
    "carModelFrq.set_title(\"Car Model Frequency\")\n",
    "carModelFrq.set_xlabel(\"Car Model\")\n",
    "carModelFrq.set_ylabel(\"Frequency\")"
   ]
  },
  {
   "cell_type": "code",
   "execution_count": null,
   "id": "ebde1b8b-c76e-4e8c-9f28-6d89c7c6d6a6",
   "metadata": {},
   "outputs": [],
   "source": [
    "#As seen here, the Jaguar boasts a higher frequency than its other counterparts such as Dogdge, which comes in second, Ford, coming in third, Mitsubishi being fourth, and Datsun with the last highest frequency."
   ]
  },
  {
   "cell_type": "code",
   "execution_count": null,
   "id": "f2b77863-abfa-4af5-ad14-5b703806f9ea",
   "metadata": {},
   "outputs": [],
   "source": [
    "#Part Three - Create a Stacked Bar Chart"
   ]
  },
  {
   "cell_type": "code",
   "execution_count": 46,
   "id": "85018f8b-71b0-4583-b770-70ec5e6ba4cc",
   "metadata": {},
   "outputs": [],
   "source": [
    "cars_location = pd.read_csv('C:/Users/HP/Documents/Education/Other/Entity Academy/Data Wrangling and Data Visualization/Lesson 4 Hands On/L3Part3.csv')"
   ]
  },
  {
   "cell_type": "code",
   "execution_count": 47,
   "id": "ea16906d-69cd-45d9-a219-96825336ba6b",
   "metadata": {},
   "outputs": [
    {
     "data": {
      "text/html": [
       "<div>\n",
       "<style scoped>\n",
       "    .dataframe tbody tr th:only-of-type {\n",
       "        vertical-align: middle;\n",
       "    }\n",
       "\n",
       "    .dataframe tbody tr th {\n",
       "        vertical-align: top;\n",
       "    }\n",
       "\n",
       "    .dataframe thead th {\n",
       "        text-align: right;\n",
       "    }\n",
       "</style>\n",
       "<table border=\"1\" class=\"dataframe\">\n",
       "  <thead>\n",
       "    <tr style=\"text-align: right;\">\n",
       "      <th></th>\n",
       "      <th>Car</th>\n",
       "      <th>Location</th>\n",
       "    </tr>\n",
       "  </thead>\n",
       "  <tbody>\n",
       "    <tr>\n",
       "      <th>0</th>\n",
       "      <td>Ford</td>\n",
       "      <td>Northwest</td>\n",
       "    </tr>\n",
       "    <tr>\n",
       "      <th>1</th>\n",
       "      <td>Ford</td>\n",
       "      <td>East</td>\n",
       "    </tr>\n",
       "    <tr>\n",
       "      <th>2</th>\n",
       "      <td>Mitsubishi</td>\n",
       "      <td>Northwest</td>\n",
       "    </tr>\n",
       "    <tr>\n",
       "      <th>3</th>\n",
       "      <td>Datsun</td>\n",
       "      <td>Northwest</td>\n",
       "    </tr>\n",
       "    <tr>\n",
       "      <th>4</th>\n",
       "      <td>Mitsubishi</td>\n",
       "      <td>Southwest</td>\n",
       "    </tr>\n",
       "  </tbody>\n",
       "</table>\n",
       "</div>"
      ],
      "text/plain": [
       "          Car   Location\n",
       "0        Ford  Northwest\n",
       "1        Ford       East\n",
       "2  Mitsubishi  Northwest\n",
       "3      Datsun  Northwest\n",
       "4  Mitsubishi  Southwest"
      ]
     },
     "execution_count": 47,
     "metadata": {},
     "output_type": "execute_result"
    }
   ],
   "source": [
    "cars_location.head()"
   ]
  },
  {
   "cell_type": "code",
   "execution_count": 48,
   "id": "f6ea65f4-3c72-4510-943b-ad8a04631160",
   "metadata": {},
   "outputs": [
    {
     "data": {
      "text/html": [
       "<div>\n",
       "<style scoped>\n",
       "    .dataframe tbody tr th:only-of-type {\n",
       "        vertical-align: middle;\n",
       "    }\n",
       "\n",
       "    .dataframe tbody tr th {\n",
       "        vertical-align: top;\n",
       "    }\n",
       "\n",
       "    .dataframe thead th {\n",
       "        text-align: right;\n",
       "    }\n",
       "</style>\n",
       "<table border=\"1\" class=\"dataframe\">\n",
       "  <thead>\n",
       "    <tr style=\"text-align: right;\">\n",
       "      <th></th>\n",
       "      <th>Car</th>\n",
       "      <th>Location</th>\n",
       "    </tr>\n",
       "  </thead>\n",
       "  <tbody>\n",
       "    <tr>\n",
       "      <th>0</th>\n",
       "      <td>Ford</td>\n",
       "      <td>Northwest</td>\n",
       "    </tr>\n",
       "    <tr>\n",
       "      <th>1</th>\n",
       "      <td>Ford</td>\n",
       "      <td>East</td>\n",
       "    </tr>\n",
       "    <tr>\n",
       "      <th>2</th>\n",
       "      <td>Mitsubishi</td>\n",
       "      <td>Northwest</td>\n",
       "    </tr>\n",
       "    <tr>\n",
       "      <th>3</th>\n",
       "      <td>Datsun</td>\n",
       "      <td>Northwest</td>\n",
       "    </tr>\n",
       "    <tr>\n",
       "      <th>4</th>\n",
       "      <td>Mitsubishi</td>\n",
       "      <td>Southwest</td>\n",
       "    </tr>\n",
       "    <tr>\n",
       "      <th>...</th>\n",
       "      <td>...</td>\n",
       "      <td>...</td>\n",
       "    </tr>\n",
       "    <tr>\n",
       "      <th>82</th>\n",
       "      <td>Jaguar</td>\n",
       "      <td>Northwest</td>\n",
       "    </tr>\n",
       "    <tr>\n",
       "      <th>83</th>\n",
       "      <td>Jaguar</td>\n",
       "      <td>Southwest</td>\n",
       "    </tr>\n",
       "    <tr>\n",
       "      <th>84</th>\n",
       "      <td>Ford</td>\n",
       "      <td>Southwest</td>\n",
       "    </tr>\n",
       "    <tr>\n",
       "      <th>85</th>\n",
       "      <td>Mitsubishi</td>\n",
       "      <td>East</td>\n",
       "    </tr>\n",
       "    <tr>\n",
       "      <th>86</th>\n",
       "      <td>Dodge</td>\n",
       "      <td>Southwest</td>\n",
       "    </tr>\n",
       "  </tbody>\n",
       "</table>\n",
       "<p>87 rows × 2 columns</p>\n",
       "</div>"
      ],
      "text/plain": [
       "           Car   Location\n",
       "0         Ford  Northwest\n",
       "1         Ford       East\n",
       "2   Mitsubishi  Northwest\n",
       "3       Datsun  Northwest\n",
       "4   Mitsubishi  Southwest\n",
       "..         ...        ...\n",
       "82      Jaguar  Northwest\n",
       "83      Jaguar  Southwest\n",
       "84        Ford  Southwest\n",
       "85  Mitsubishi       East\n",
       "86       Dodge  Southwest\n",
       "\n",
       "[87 rows x 2 columns]"
      ]
     },
     "execution_count": 48,
     "metadata": {},
     "output_type": "execute_result"
    }
   ],
   "source": [
    "cars_location"
   ]
  },
  {
   "cell_type": "code",
   "execution_count": 61,
   "id": "8ada1bbb-abd7-4463-b9bd-ab388edb909b",
   "metadata": {},
   "outputs": [
    {
     "data": {
      "text/plain": [
       "<AxesSubplot:xlabel='Car'>"
      ]
     },
     "execution_count": 61,
     "metadata": {},
     "output_type": "execute_result"
    },
    {
     "data": {
      "image/png": "[encoded data removed]",
      "text/plain": [
       "<Figure size 432x288 with 1 Axes>"
      ]
     },
     "metadata": {
      "needs_background": "light"
     },
     "output_type": "display_data"
    }
   ],
   "source": [
    "crosstab_df = pd.crosstab(cars_location['Car'], cars_location['Location'])\n",
    "crosstab_df.plot.bar(stacked=True)"
   ]
  },
  {
   "cell_type": "code",
   "execution_count": null,
   "id": "4d6882b7-20a7-4739-afa0-7522aa01348e",
   "metadata": {},
   "outputs": [],
   "source": [
    "#Jaguar held the most popularity in the Southwest regions of the United States, as well as the Northwest, and East. Datsun held the lowest popualrity in the East, Northwest, and Southwest."
   ]
  },
  {
   "cell_type": "code",
   "execution_count": null,
   "id": "b4f0a312-01c1-445f-a7b5-75efa2598f79",
   "metadata": {},
   "outputs": [],
   "source": [
    "#Part Four - Scatterplot for estuarine crocodiles, recording their head length and body length"
   ]
  },
  {
   "cell_type": "code",
   "execution_count": 53,
   "id": "acbd12bb-ff18-4d25-92d4-552e7f9b92b9",
   "metadata": {},
   "outputs": [],
   "source": [
    "croc_measurements = pd.read_csv('C:/Users/HP/Documents/Education/Other/Entity Academy/Data Wrangling and Data Visualization/Lesson 4 Hands On/crocodiles.csv')"
   ]
  },
  {
   "cell_type": "code",
   "execution_count": 54,
   "id": "5636a448-2cc6-44fb-b2b1-ff4f9bd31668",
   "metadata": {},
   "outputs": [
    {
     "data": {
      "text/html": [
       "<div>\n",
       "<style scoped>\n",
       "    .dataframe tbody tr th:only-of-type {\n",
       "        vertical-align: middle;\n",
       "    }\n",
       "\n",
       "    .dataframe tbody tr th {\n",
       "        vertical-align: top;\n",
       "    }\n",
       "\n",
       "    .dataframe thead th {\n",
       "        text-align: right;\n",
       "    }\n",
       "</style>\n",
       "<table border=\"1\" class=\"dataframe\">\n",
       "  <thead>\n",
       "    <tr style=\"text-align: right;\">\n",
       "      <th></th>\n",
       "      <th>CommonName</th>\n",
       "      <th>HeadLength</th>\n",
       "      <th>BodyLength</th>\n",
       "    </tr>\n",
       "  </thead>\n",
       "  <tbody>\n",
       "    <tr>\n",
       "      <th>0</th>\n",
       "      <td>Estuarine Crocodile</td>\n",
       "      <td>24</td>\n",
       "      <td>161</td>\n",
       "    </tr>\n",
       "    <tr>\n",
       "      <th>1</th>\n",
       "      <td>Estuarine Crocodile</td>\n",
       "      <td>24</td>\n",
       "      <td>179</td>\n",
       "    </tr>\n",
       "    <tr>\n",
       "      <th>2</th>\n",
       "      <td>Estuarine Crocodile</td>\n",
       "      <td>32</td>\n",
       "      <td>226</td>\n",
       "    </tr>\n",
       "    <tr>\n",
       "      <th>3</th>\n",
       "      <td>Estuarine Crocodile</td>\n",
       "      <td>35</td>\n",
       "      <td>259</td>\n",
       "    </tr>\n",
       "    <tr>\n",
       "      <th>4</th>\n",
       "      <td>Estuarine Crocodile</td>\n",
       "      <td>40</td>\n",
       "      <td>287</td>\n",
       "    </tr>\n",
       "  </tbody>\n",
       "</table>\n",
       "</div>"
      ],
      "text/plain": [
       "            CommonName  HeadLength  BodyLength\n",
       "0  Estuarine Crocodile          24         161\n",
       "1  Estuarine Crocodile          24         179\n",
       "2  Estuarine Crocodile          32         226\n",
       "3  Estuarine Crocodile          35         259\n",
       "4  Estuarine Crocodile          40         287"
      ]
     },
     "execution_count": 54,
     "metadata": {},
     "output_type": "execute_result"
    }
   ],
   "source": [
    "croc_measurements.head()"
   ]
  },
  {
   "cell_type": "code",
   "execution_count": 56,
   "id": "a8446f60-e551-4e40-a800-42e23a5e9ca7",
   "metadata": {},
   "outputs": [
    {
     "data": {
      "text/html": [
       "<div>\n",
       "<style scoped>\n",
       "    .dataframe tbody tr th:only-of-type {\n",
       "        vertical-align: middle;\n",
       "    }\n",
       "\n",
       "    .dataframe tbody tr th {\n",
       "        vertical-align: top;\n",
       "    }\n",
       "\n",
       "    .dataframe thead th {\n",
       "        text-align: right;\n",
       "    }\n",
       "</style>\n",
       "<table border=\"1\" class=\"dataframe\">\n",
       "  <thead>\n",
       "    <tr style=\"text-align: right;\">\n",
       "      <th></th>\n",
       "      <th>CommonName</th>\n",
       "      <th>HeadLength</th>\n",
       "      <th>BodyLength</th>\n",
       "    </tr>\n",
       "  </thead>\n",
       "  <tbody>\n",
       "    <tr>\n",
       "      <th>0</th>\n",
       "      <td>Estuarine Crocodile</td>\n",
       "      <td>24</td>\n",
       "      <td>161</td>\n",
       "    </tr>\n",
       "    <tr>\n",
       "      <th>1</th>\n",
       "      <td>Estuarine Crocodile</td>\n",
       "      <td>24</td>\n",
       "      <td>179</td>\n",
       "    </tr>\n",
       "    <tr>\n",
       "      <th>2</th>\n",
       "      <td>Estuarine Crocodile</td>\n",
       "      <td>32</td>\n",
       "      <td>226</td>\n",
       "    </tr>\n",
       "    <tr>\n",
       "      <th>3</th>\n",
       "      <td>Estuarine Crocodile</td>\n",
       "      <td>35</td>\n",
       "      <td>259</td>\n",
       "    </tr>\n",
       "    <tr>\n",
       "      <th>4</th>\n",
       "      <td>Estuarine Crocodile</td>\n",
       "      <td>40</td>\n",
       "      <td>287</td>\n",
       "    </tr>\n",
       "    <tr>\n",
       "      <th>5</th>\n",
       "      <td>Estuarine Crocodile</td>\n",
       "      <td>40</td>\n",
       "      <td>300</td>\n",
       "    </tr>\n",
       "    <tr>\n",
       "      <th>6</th>\n",
       "      <td>Estuarine Crocodile</td>\n",
       "      <td>46</td>\n",
       "      <td>342</td>\n",
       "    </tr>\n",
       "    <tr>\n",
       "      <th>7</th>\n",
       "      <td>Estuarine Crocodile</td>\n",
       "      <td>48</td>\n",
       "      <td>333</td>\n",
       "    </tr>\n",
       "    <tr>\n",
       "      <th>8</th>\n",
       "      <td>Estuarine Crocodile</td>\n",
       "      <td>52</td>\n",
       "      <td>406</td>\n",
       "    </tr>\n",
       "    <tr>\n",
       "      <th>9</th>\n",
       "      <td>Estuarine Crocodile</td>\n",
       "      <td>61</td>\n",
       "      <td>459</td>\n",
       "    </tr>\n",
       "    <tr>\n",
       "      <th>10</th>\n",
       "      <td>Estuarine Crocodile</td>\n",
       "      <td>51</td>\n",
       "      <td>376</td>\n",
       "    </tr>\n",
       "    <tr>\n",
       "      <th>11</th>\n",
       "      <td>Estuarine Crocodile</td>\n",
       "      <td>54</td>\n",
       "      <td>380</td>\n",
       "    </tr>\n",
       "    <tr>\n",
       "      <th>12</th>\n",
       "      <td>Estuarine Crocodile</td>\n",
       "      <td>38</td>\n",
       "      <td>265</td>\n",
       "    </tr>\n",
       "    <tr>\n",
       "      <th>13</th>\n",
       "      <td>Estuarine Crocodile</td>\n",
       "      <td>46</td>\n",
       "      <td>349</td>\n",
       "    </tr>\n",
       "    <tr>\n",
       "      <th>14</th>\n",
       "      <td>Estuarine Crocodile</td>\n",
       "      <td>38</td>\n",
       "      <td>264</td>\n",
       "    </tr>\n",
       "    <tr>\n",
       "      <th>15</th>\n",
       "      <td>Estuarine Crocodile</td>\n",
       "      <td>49</td>\n",
       "      <td>358</td>\n",
       "    </tr>\n",
       "    <tr>\n",
       "      <th>16</th>\n",
       "      <td>Estuarine Crocodile</td>\n",
       "      <td>39</td>\n",
       "      <td>276</td>\n",
       "    </tr>\n",
       "    <tr>\n",
       "      <th>17</th>\n",
       "      <td>Estuarine Crocodile</td>\n",
       "      <td>49</td>\n",
       "      <td>356</td>\n",
       "    </tr>\n",
       "    <tr>\n",
       "      <th>18</th>\n",
       "      <td>Estuarine Crocodile</td>\n",
       "      <td>40</td>\n",
       "      <td>270</td>\n",
       "    </tr>\n",
       "    <tr>\n",
       "      <th>19</th>\n",
       "      <td>Estuarine Crocodile</td>\n",
       "      <td>53</td>\n",
       "      <td>392</td>\n",
       "    </tr>\n",
       "    <tr>\n",
       "      <th>20</th>\n",
       "      <td>Estuarine Crocodile</td>\n",
       "      <td>61</td>\n",
       "      <td>442</td>\n",
       "    </tr>\n",
       "    <tr>\n",
       "      <th>21</th>\n",
       "      <td>Estuarine Crocodile</td>\n",
       "      <td>53</td>\n",
       "      <td>377</td>\n",
       "    </tr>\n",
       "    <tr>\n",
       "      <th>22</th>\n",
       "      <td>Estuarine Crocodile</td>\n",
       "      <td>44</td>\n",
       "      <td>322</td>\n",
       "    </tr>\n",
       "    <tr>\n",
       "      <th>23</th>\n",
       "      <td>Estuarine Crocodile</td>\n",
       "      <td>54</td>\n",
       "      <td>390</td>\n",
       "    </tr>\n",
       "    <tr>\n",
       "      <th>24</th>\n",
       "      <td>Estuarine Crocodile</td>\n",
       "      <td>50</td>\n",
       "      <td>377</td>\n",
       "    </tr>\n",
       "    <tr>\n",
       "      <th>25</th>\n",
       "      <td>Estuarine Crocodile</td>\n",
       "      <td>57</td>\n",
       "      <td>419</td>\n",
       "    </tr>\n",
       "    <tr>\n",
       "      <th>26</th>\n",
       "      <td>Estuarine Crocodile</td>\n",
       "      <td>40</td>\n",
       "      <td>276</td>\n",
       "    </tr>\n",
       "    <tr>\n",
       "      <th>27</th>\n",
       "      <td>Estuarine Crocodile</td>\n",
       "      <td>51</td>\n",
       "      <td>368</td>\n",
       "    </tr>\n",
       "  </tbody>\n",
       "</table>\n",
       "</div>"
      ],
      "text/plain": [
       "             CommonName  HeadLength  BodyLength\n",
       "0   Estuarine Crocodile          24         161\n",
       "1   Estuarine Crocodile          24         179\n",
       "2   Estuarine Crocodile          32         226\n",
       "3   Estuarine Crocodile          35         259\n",
       "4   Estuarine Crocodile          40         287\n",
       "5   Estuarine Crocodile          40         300\n",
       "6   Estuarine Crocodile          46         342\n",
       "7   Estuarine Crocodile          48         333\n",
       "8   Estuarine Crocodile          52         406\n",
       "9   Estuarine Crocodile          61         459\n",
       "10  Estuarine Crocodile          51         376\n",
       "11  Estuarine Crocodile          54         380\n",
       "12  Estuarine Crocodile          38         265\n",
       "13  Estuarine Crocodile          46         349\n",
       "14  Estuarine Crocodile          38         264\n",
       "15  Estuarine Crocodile          49         358\n",
       "16  Estuarine Crocodile          39         276\n",
       "17  Estuarine Crocodile          49         356\n",
       "18  Estuarine Crocodile          40         270\n",
       "19  Estuarine Crocodile          53         392\n",
       "20  Estuarine Crocodile          61         442\n",
       "21  Estuarine Crocodile          53         377\n",
       "22  Estuarine Crocodile          44         322\n",
       "23  Estuarine Crocodile          54         390\n",
       "24  Estuarine Crocodile          50         377\n",
       "25  Estuarine Crocodile          57         419\n",
       "26  Estuarine Crocodile          40         276\n",
       "27  Estuarine Crocodile          51         368"
      ]
     },
     "execution_count": 56,
     "metadata": {},
     "output_type": "execute_result"
    }
   ],
   "source": [
    "croc_measurements"
   ]
  },
  {
   "cell_type": "code",
   "execution_count": 55,
   "id": "9f4ecaaa-8d34-481b-99ba-b24941c22981",
   "metadata": {},
   "outputs": [
    {
     "data": {
      "text/plain": [
       "Text(0, 0.5, 'BodyLength')"
      ]
     },
     "execution_count": 55,
     "metadata": {},
     "output_type": "execute_result"
    },
    {
     "data": {
      "image/png": "[encoded data removed]",
      "text/plain": [
       "<Figure size 432x288 with 1 Axes>"
      ]
     },
     "metadata": {
      "needs_background": "light"
     },
     "output_type": "display_data"
    }
   ],
   "source": [
    "Plot = croc_measurements.plot.scatter(x='HeadLength', y='BodyLength')\n",
    "Plot.set_title(\"HeadLength by BodyLength\")\n",
    "Plot.set_xlabel(\"HeadLength\")\n",
    "Plot.set_ylabel(\"BodyLength\")"
   ]
  },
  {
   "cell_type": "code",
   "execution_count": null,
   "id": "2ee471d2-79aa-473f-b43f-81905ef48709",
   "metadata": {},
   "outputs": [],
   "source": [
    "#According to this scatterplot, as the head length of estuarine crocodiles increases, so does their body length."
   ]
  },
  {
   "cell_type": "code",
   "execution_count": null,
   "id": "03ccd198-a8ad-4244-81ef-87cb9266ba0c",
   "metadata": {},
   "outputs": [],
   "source": [
    "# Part Five - Create a Line Chart for Heart Attacks in US city"
   ]
  },
  {
   "cell_type": "code",
   "execution_count": 62,
   "id": "f7746ea8-ad00-4647-b7e3-b5264d6a6037",
   "metadata": {},
   "outputs": [],
   "source": [
    "heart_attacks = pd.read_csv('C:/Users/HP/Documents/Education/Other/Entity Academy/Data Wrangling and Data Visualization/Lesson 4 Hands On/L6handson.csv')"
   ]
  },
  {
   "cell_type": "code",
   "execution_count": 63,
   "id": "74760582-8eb1-4ca8-893f-8b1d37f6d871",
   "metadata": {},
   "outputs": [
    {
     "data": {
      "text/html": [
       "<div>\n",
       "<style scoped>\n",
       "    .dataframe tbody tr th:only-of-type {\n",
       "        vertical-align: middle;\n",
       "    }\n",
       "\n",
       "    .dataframe tbody tr th {\n",
       "        vertical-align: top;\n",
       "    }\n",
       "\n",
       "    .dataframe thead th {\n",
       "        text-align: right;\n",
       "    }\n",
       "</style>\n",
       "<table border=\"1\" class=\"dataframe\">\n",
       "  <thead>\n",
       "    <tr style=\"text-align: right;\">\n",
       "      <th></th>\n",
       "      <th>Month</th>\n",
       "      <th>Day</th>\n",
       "      <th>Year</th>\n",
       "      <th>Heart Attacks</th>\n",
       "    </tr>\n",
       "  </thead>\n",
       "  <tbody>\n",
       "    <tr>\n",
       "      <th>0</th>\n",
       "      <td>May</td>\n",
       "      <td>1,</td>\n",
       "      <td>2003</td>\n",
       "      <td>12</td>\n",
       "    </tr>\n",
       "    <tr>\n",
       "      <th>1</th>\n",
       "      <td>May</td>\n",
       "      <td>2,</td>\n",
       "      <td>2003</td>\n",
       "      <td>12</td>\n",
       "    </tr>\n",
       "    <tr>\n",
       "      <th>2</th>\n",
       "      <td>May</td>\n",
       "      <td>3,</td>\n",
       "      <td>2003</td>\n",
       "      <td>6</td>\n",
       "    </tr>\n",
       "    <tr>\n",
       "      <th>3</th>\n",
       "      <td>May</td>\n",
       "      <td>4,</td>\n",
       "      <td>2003</td>\n",
       "      <td>16</td>\n",
       "    </tr>\n",
       "    <tr>\n",
       "      <th>4</th>\n",
       "      <td>May</td>\n",
       "      <td>5,</td>\n",
       "      <td>2003</td>\n",
       "      <td>13</td>\n",
       "    </tr>\n",
       "    <tr>\n",
       "      <th>...</th>\n",
       "      <td>...</td>\n",
       "      <td>...</td>\n",
       "      <td>...</td>\n",
       "      <td>...</td>\n",
       "    </tr>\n",
       "    <tr>\n",
       "      <th>86</th>\n",
       "      <td>July</td>\n",
       "      <td>26,</td>\n",
       "      <td>2003</td>\n",
       "      <td>17</td>\n",
       "    </tr>\n",
       "    <tr>\n",
       "      <th>87</th>\n",
       "      <td>July</td>\n",
       "      <td>27,</td>\n",
       "      <td>2003</td>\n",
       "      <td>19</td>\n",
       "    </tr>\n",
       "    <tr>\n",
       "      <th>88</th>\n",
       "      <td>July</td>\n",
       "      <td>28,</td>\n",
       "      <td>2003</td>\n",
       "      <td>27</td>\n",
       "    </tr>\n",
       "    <tr>\n",
       "      <th>89</th>\n",
       "      <td>July</td>\n",
       "      <td>29,</td>\n",
       "      <td>2003</td>\n",
       "      <td>11</td>\n",
       "    </tr>\n",
       "    <tr>\n",
       "      <th>90</th>\n",
       "      <td>July</td>\n",
       "      <td>30,</td>\n",
       "      <td>2003</td>\n",
       "      <td>18</td>\n",
       "    </tr>\n",
       "  </tbody>\n",
       "</table>\n",
       "<p>91 rows × 4 columns</p>\n",
       "</div>"
      ],
      "text/plain": [
       "   Month  Day  Year  Heart Attacks\n",
       "0    May   1,  2003             12\n",
       "1    May   2,  2003             12\n",
       "2    May   3,  2003              6\n",
       "3    May   4,  2003             16\n",
       "4    May   5,  2003             13\n",
       "..   ...  ...   ...            ...\n",
       "86  July  26,  2003             17\n",
       "87  July  27,  2003             19\n",
       "88  July  28,  2003             27\n",
       "89  July  29,  2003             11\n",
       "90  July  30,  2003             18\n",
       "\n",
       "[91 rows x 4 columns]"
      ]
     },
     "execution_count": 63,
     "metadata": {},
     "output_type": "execute_result"
    }
   ],
   "source": [
    "heart_attacks"
   ]
  },
  {
   "cell_type": "code",
   "execution_count": 72,
   "id": "e318e384-8f42-4458-acb6-11cda7c0efb1",
   "metadata": {},
   "outputs": [],
   "source": [
    "heart_attacks['Date'] = heart_attacks[\"Month\"] + \" , \" + heart_attacks[\"Day\"] + \" , \" + heart_attacks[\"Year\"].map(str)"
   ]
  },
  {
   "cell_type": "code",
   "execution_count": 74,
   "id": "a1b2c668-8c4a-4fa2-a363-04284d2b9f7c",
   "metadata": {},
   "outputs": [
    {
     "data": {
      "text/plain": [
       "Text(0.5, 1.0, 'Heart Attacks over Time')"
      ]
     },
     "execution_count": 74,
     "metadata": {},
     "output_type": "execute_result"
    },
    {
     "data": {
      "image/png": "[encoded data removed]",
      "text/plain": [
       "<Figure size 432x288 with 1 Axes>"
      ]
     },
     "metadata": {
      "needs_background": "light"
     },
     "output_type": "display_data"
    }
   ],
   "source": [
    "plt.plot(heart_attacks['Date'], heart_attacks['Heart Attacks'])\n",
    "plt.xlabel('Date')\n",
    "plt.ylabel('Heart Attacks')\n",
    "plt.title(\"Heart Attacks over Time\")"
   ]
  },
  {
   "cell_type": "code",
   "execution_count": null,
   "id": "d729df27-0617-4ca6-a3cf-a2fc7a0bfca0",
   "metadata": {},
   "outputs": [],
   "source": [
    "#This jagged appearance that the line graph provides instantly alerts its viewers that there have been a series of rise and falls in the frequency of heart attacks in a large US city's hospitals, with the highest frequency of heart attacks occuring towards the end of July."
   ]
  }
 ],
 "metadata": {
  "kernelspec": {
   "display_name": "Python 3 (ipykernel)",
   "language": "python",
   "name": "python3"
  },
  "language_info": {
   "codemirror_mode": {
    "name": "ipython",
    "version": 3
   },
   "file_extension": ".py",
   "mimetype": "text/x-python",
   "name": "python",
   "nbconvert_exporter": "python",
   "pygments_lexer": "ipython3",
   "version": "3.9.10"
  }
 },
 "nbformat": 4,
 "nbformat_minor": 5
}
